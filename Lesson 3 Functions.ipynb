{
 "cells": [
  {
   "cell_type": "code",
   "execution_count": 4,
   "id": "f82da4e8",
   "metadata": {},
   "outputs": [
    {
     "name": "stdout",
     "output_type": "stream",
     "text": [
      "Введите первое число - 45\n",
      "Введите второе число - 34\n",
      "Результат деления чисел = 1.3235294117647058\n"
     ]
    }
   ],
   "source": [
    "#задача 1\n",
    "def divider (a,b):\n",
    "    try:\n",
    "        result = a/b\n",
    "    except ZeroDivisionError:\n",
    "        print ('Вы пытаетесь делить на ноль')\n",
    "        result = None\n",
    "    return result\n",
    "\n",
    "try:\n",
    "    result = divider (float(input('Введите первое число - ')), float(input('Введите второе число - ')))\n",
    "    print ('Результат деления чисел = {}'.format(result))\n",
    "except ValueError:\n",
    "    print('Вы вводите не числа!')"
   ]
  },
  {
   "cell_type": "code",
   "execution_count": 9,
   "id": "d67085f8",
   "metadata": {},
   "outputs": [
    {
     "name": "stdout",
     "output_type": "stream",
     "text": [
      "Пользователя зовут - Andrey Kozlov. Он родился в 1994. Живет в городе - Perm. Электронная почта - andreykozlov10031994@gmail.com. Телефон - 79125913451\n"
     ]
    }
   ],
   "source": [
    "#задача 2\n",
    "def info (name = 'name', surname = 'surname', year = 1994, city = 'city', mail = 'name@gmail.ru', phone = 799999999):\n",
    "    print('Пользователя зовут - {} {}. Он родился в {}. Живет в городе - {}. Электронная почта - {}. Телефон - {}'.\n",
    "          format(name,surname,year,city,mail,phone))\n",
    "\n",
    "info (surname = 'Kozlov',name = 'Andrey', mail = 'andreykozlov10031994@gmail.com',city = 'Perm',phone = 79125913451,\n",
    "     year = 1994)"
   ]
  },
  {
   "cell_type": "code",
   "execution_count": 12,
   "id": "bde05cc8",
   "metadata": {},
   "outputs": [
    {
     "name": "stdout",
     "output_type": "stream",
     "text": [
      "Введите первый аргумент - ы\n",
      "Введите второй аргумент - 4\n",
      "Введите третий аргумент - ц\n",
      "Сумма наибольших двух из трех введенных - ыц\n"
     ]
    }
   ],
   "source": [
    "#задача 3\n",
    "'''\n",
    "функция проверяет, можно ли привеcти введенные позиционные аргументы к типу float.\n",
    "В случае, если хотя бы один из позиционный аргументов является строкой и не приводим к типу float,\n",
    "то она работает со ВСЕМИ аргументами, как со строками.\n",
    "'''\n",
    "def my_func(a,b,c):\n",
    "    try:\n",
    "        a_arg = float (a)\n",
    "        b_arg = float (b)\n",
    "        c_arg = float (c)\n",
    "    except ValueError:\n",
    "        a_arg = str(a)\n",
    "        b_arg = str(b)\n",
    "        c_arg = str(c) \n",
    "    l = [a_arg,b_arg,c_arg]\n",
    "    l.sort(reverse=True)\n",
    "    return print('Сумма наибольших двух из трех введенных - {}'.format(l[0]+l[1]))\n",
    "\n",
    "my_func(input('Введите первый аргумент - '), input('Введите второй аргумент - '), \n",
    "        input('Введите третий аргумент - ')) "
   ]
  },
  {
   "cell_type": "code",
   "execution_count": 17,
   "id": "188e9ed6",
   "metadata": {},
   "outputs": [
    {
     "name": "stdout",
     "output_type": "stream",
     "text": [
      "0.001\n",
      "0.001\n"
     ]
    }
   ],
   "source": [
    "#задача 4\n",
    "'''функция принимает на вход x - действительное положительное число, y - целое отрицательное число\n",
    "'''\n",
    "def my_func_1(x,y):\n",
    "    if x < 0 or y > 0 or type(y) != int :\n",
    "        return print('Ошибка ввода аргументов функции. Прочитайте документацию к функции')\n",
    "    try:\n",
    "        exp = float(x)**int(y)\n",
    "        return print(exp)\n",
    "    except Exception:\n",
    "        print('Произошла ошибка при вводе параметров функции')\n",
    "        \n",
    "def my_func_2(x,y):\n",
    "    if x < 0 or y > 0 or type(y) != int:\n",
    "        return print('Ошибка ввода аргументов функции. Прочитайте документацию к функции')\n",
    "    exp = 1\n",
    "    try:\n",
    "        for i in range (0,(-y)):\n",
    "            exp /= x\n",
    "        return print(exp)\n",
    "    except Exception:\n",
    "        print('Произошла ошибка при вводе параметров функции')\n",
    "        \n",
    "try:\n",
    "    my_func_2(10,-3)\n",
    "    my_func_1(10,-3)\n",
    "except Exception:\n",
    "    print('Произошла ошибка при вводе параметров функции')"
   ]
  },
  {
   "cell_type": "code",
   "execution_count": 18,
   "id": "df7d9ab3",
   "metadata": {},
   "outputs": [
    {
     "name": "stdout",
     "output_type": "stream",
     "text": [
      "Введите строку чисел, разделенных пробелами. Если хотите закончить, введите любую букву - 1 2 3\n",
      "cумма чисел - 6.0\n",
      "Введите строку чисел, разделенных пробелами. Если хотите закончить, введите любую букву - 2 3 4 t\n",
      "cумма чисел - 15.0\n",
      "Программа закончена. Итоговая сумма - 15.0\n"
     ]
    }
   ],
   "source": [
    "#задача 5\n",
    "def summator (numbers):\n",
    "    numbers_list = numbers.split()\n",
    "    result_sum = 0\n",
    "    exit_flag = False\n",
    "    try:\n",
    "        for i in range (0,len(numbers_list)):\n",
    "            result_sum += float(numbers_list[i])\n",
    "        return result_sum, exit_flag\n",
    "    except Exception:\n",
    "        exit_flag = True\n",
    "        return result_sum, exit_flag   \n",
    "\n",
    "result = 0\n",
    "exit = False\n",
    "while exit == False:\n",
    "    s = input ('Введите строку чисел, разделенных пробелами. Если хотите закончить, введите любую букву - ')\n",
    "    sum_elem_list, exit = summator(s)\n",
    "    result += sum_elem_list\n",
    "    print('cумма чисел - {}'.format(result))\n",
    "print('Программа закончена. Итоговая сумма - {}'.format(result))"
   ]
  },
  {
   "cell_type": "code",
   "execution_count": 22,
   "id": "cb29f3a8",
   "metadata": {},
   "outputs": [
    {
     "name": "stdout",
     "output_type": "stream",
     "text": [
      "Введите строку из слов в нижнем регистре, разделенных пробелом - строка написанная строчными буквами\n",
      "Строка Написанная Строчными Буквами \n"
     ]
    }
   ],
   "source": [
    "#задание 6\n",
    "def int_func(word):\n",
    "    word_part1 = word[0]\n",
    "    word_part2 = word[1:len(word)]\n",
    "    word_part1 = word_part1.replace (word_part1, chr(ord(word_part1)-32))\n",
    "    word = word_part1 + word_part2\n",
    "    return word\n",
    "\n",
    "word_str = input('Введите строку из слов в нижнем регистре, разделенных пробелом - ')\n",
    "word_str_list = word_str.split()\n",
    "new_word_str_list = list(map(int_func,word_str_list))\n",
    "new_string = ''\n",
    "for i in range (0, len(new_word_str_list)):\n",
    "    new_string += new_word_str_list[i] + ' '\n",
    "print (new_string)"
   ]
  },
  {
   "cell_type": "code",
   "execution_count": null,
   "id": "7f205828",
   "metadata": {},
   "outputs": [],
   "source": []
  },
  {
   "cell_type": "code",
   "execution_count": null,
   "id": "03fb33af",
   "metadata": {},
   "outputs": [],
   "source": []
  }
 ],
 "metadata": {
  "kernelspec": {
   "display_name": "Python 3 (ipykernel)",
   "language": "python",
   "name": "python3"
  },
  "language_info": {
   "codemirror_mode": {
    "name": "ipython",
    "version": 3
   },
   "file_extension": ".py",
   "mimetype": "text/x-python",
   "name": "python",
   "nbconvert_exporter": "python",
   "pygments_lexer": "ipython3",
   "version": "3.9.7"
  }
 },
 "nbformat": 4,
 "nbformat_minor": 5
}
