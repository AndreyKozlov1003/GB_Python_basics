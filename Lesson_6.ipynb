{
 "cells": [
  {
   "cell_type": "code",
   "execution_count": 1,
   "id": "f9fec396",
   "metadata": {},
   "outputs": [
    {
     "name": "stdout",
     "output_type": "stream",
     "text": [
      "Красный\n",
      "Желтый\n",
      "Зеленый\n"
     ]
    }
   ],
   "source": [
    "#задача 1\n",
    "from time import sleep\n",
    "\n",
    "class TrafficLight:\n",
    "    __color = ['Красный', 'Желтый', 'Зеленый']\n",
    "    \n",
    "    def running (self):\n",
    "        i = 0\n",
    "        while i != 3:\n",
    "            if i == 0:\n",
    "                print(TrafficLight.__color[i])\n",
    "                sleep(7)\n",
    "                i += 1\n",
    "            if i == 1:\n",
    "                print(TrafficLight.__color[i])\n",
    "                sleep(2)\n",
    "                i += 1\n",
    "            if i == 2:\n",
    "                print(TrafficLight.__color[i])\n",
    "                sleep(3)\n",
    "                i += 1\n",
    "\n",
    "tl = TrafficLight()\n",
    "tl.running()"
   ]
  },
  {
   "cell_type": "code",
   "execution_count": 2,
   "id": "0f763c5a",
   "metadata": {},
   "outputs": [
    {
     "name": "stdout",
     "output_type": "stream",
     "text": [
      "Масса асфальта, необходимая для покрытия дороги шириной 5000 м и длинной 20 м с толщиной полотна 3 см, равна 7500 тонн\n"
     ]
    }
   ],
   "source": [
    "#задача 2\n",
    "class Road:\n",
    "    spec_mass = 25 #[кг] масса асфальта для покрытия одного кв. метра дороги асфальтом, толщиной в 1 см\n",
    "    \n",
    "    def __init__(self,lenght,width,thickness):\n",
    "        self._lenght = lenght\n",
    "        self._width = width\n",
    "        self._thickness = thickness\n",
    "        m = round(self._lenght*self._width*Road.spec_mass*self._thickness/1000)\n",
    "        print ('Масса асфальта, необходимая для покрытия дороги шириной {} м и длинной {} м с толщиной полотна {} см, '\n",
    "               'равна {} тонн'.format(self._width,self._lenght,self._thickness,m))\n",
    "\n",
    "try:\n",
    "    street = Road(20,5000,3)\n",
    "except Exception:\n",
    "    print('Передано недостаточное количество параметров')\n",
    "    print('Необходимы 3 параметра в следующем порядке: длинна дороги [м], ширина дороги [м], толщина полотна [cм]')"
   ]
  },
  {
   "cell_type": "code",
   "execution_count": 3,
   "id": "060377ee",
   "metadata": {},
   "outputs": [
    {
     "name": "stdout",
     "output_type": "stream",
     "text": [
      "Введите имя работника - Николай\n",
      "Введите фамилию работника - Петров\n",
      "Введите должность работника. В данный момент доступны для добавления следующие должности - \n",
      "['инженер-исследователь', 'директор отдела', 'программист', 'технический работник', 'бухгалтер', 'экономист'] \n",
      "экономист\n",
      "Полное имя - Петров Николай\n",
      "Общий доход составил 55000 руб.\n"
     ]
    }
   ],
   "source": [
    "#задача 3\n",
    "class Worker:\n",
    "    #атрибут income содержит словарь, в котором содержится информация в формате \"должность\": [оклад, бонус]\n",
    "    _income = {'инженер-исследователь': [50000, 10000], 'директор отдела': [130000, 50000], 'программист': [80000, 20000],\n",
    "              'технический работник': [30000, 5000], 'бухгалтер': [34990, 6000], 'экономист': [47000, 8000]}\n",
    "    position_base = list(_income.keys())\n",
    "    def __init__(self,name,surname,position):\n",
    "        self.name = name\n",
    "        self.surname = surname\n",
    "        self.position = position\n",
    "\n",
    "class Position (Worker):\n",
    "    def get_full_name (self):\n",
    "        full_name = self.surname + ' ' + self.name\n",
    "        print('Полное имя - {}'.format(full_name))\n",
    "    def get_total_income (self):\n",
    "        tot_inc = sum(Position._income [self.position])\n",
    "        print('Общий доход составил {} руб.'.format(tot_inc))\n",
    "\n",
    "try:\n",
    "    person1 = Position(input('Введите имя работника - '), input('Введите фамилию работника - '), \n",
    "                   input('Введите должность работника. В данный момент доступны для добавления следующие должности - \\n{} \\n'\n",
    "                         .format(Position.position_base)))\n",
    "    person1.get_full_name()\n",
    "    person1.get_total_income()\n",
    "except Exception:\n",
    "    print('Часть программы не выполняется.'\n",
    "          'Возможна ошибка при вводе должности. См. шаблон ввода в базе')\n"
   ]
  },
  {
   "cell_type": "code",
   "execution_count": 4,
   "id": "89a6ff29",
   "metadata": {},
   "outputs": [],
   "source": [
    "#задача 4\n",
    "class Car:\n",
    "    is_police = False\n",
    "    def __init__(self,speed,color,name):\n",
    "        self.speed = speed\n",
    "        self.color = color \n",
    "        self.name = name\n",
    "        \n",
    "    def go (self):\n",
    "        print('Машина поехала')\n",
    "        \n",
    "    def stop (self):\n",
    "        print('Машина остановилась')\n",
    "    \n",
    "    def turn(self,direction):\n",
    "        print('Машина повернула {}'.format(direction))\n",
    "        \n",
    "    def show_speed(self):\n",
    "        print('Текущая скорость - {} км/ч'.format(self.speed))\n",
    "        \n",
    "class PoliceCar(Car):\n",
    "    is_police = True\n",
    "    \n",
    "class TownCar(Car):\n",
    "    def show_speed(self):\n",
    "        if self.speed > 60:\n",
    "            print('Вы превысили допустимую скорость (60 км/ч)')\n",
    "        else:\n",
    "            Car.show_speed(self)\n",
    "\n",
    "class SportCar(Car):\n",
    "    pass\n",
    "\n",
    "class WorkCar(Car):\n",
    "    def show_speed(self):\n",
    "        if self.speed > 40:\n",
    "            print('Вы превысили допустимую скорость (40 км/ч)')\n",
    "        else:\n",
    "            Car.show_speed(self)"
   ]
  },
  {
   "cell_type": "code",
   "execution_count": 5,
   "id": "700a4628",
   "metadata": {},
   "outputs": [],
   "source": [
    "pc = PoliceCar(40,'Blue','Mazda')\n",
    "tc = TownCar(20,'Black','Kia')\n",
    "sc = SportCar(80,'Red', 'Lamborgini')\n",
    "wc = WorkCar(20,'Green','Kamaz')"
   ]
  },
  {
   "cell_type": "code",
   "execution_count": 6,
   "id": "0fa0c908",
   "metadata": {},
   "outputs": [
    {
     "name": "stdout",
     "output_type": "stream",
     "text": [
      "Информация о полицейской машине:\n",
      "Blue\n",
      "Mazda\n",
      "Информация о городской машине:\n",
      "Kia\n",
      "Black\n",
      "Информация о спортивной машине:\n",
      "Lamborgini\n",
      "Red\n",
      "Информация о рабочей машине:\n",
      "Kamaz\n",
      "Green\n"
     ]
    }
   ],
   "source": [
    "print('Информация о полицейской машине:')\n",
    "print(pc.color)\n",
    "print(pc.name)\n",
    "print('Информация о городской машине:')\n",
    "print(tc.name)\n",
    "print(tc.color)\n",
    "print('Информация о спортивной машине:')\n",
    "print(sc.name)\n",
    "print(sc.color)\n",
    "print('Информация о рабочей машине:')\n",
    "print(wc.name)\n",
    "print(wc.color)"
   ]
  },
  {
   "cell_type": "code",
   "execution_count": 7,
   "id": "7478538d",
   "metadata": {},
   "outputs": [
    {
     "name": "stdout",
     "output_type": "stream",
     "text": [
      "Машина поехала\n",
      "Машина повернула налево\n",
      "Машина остановилась\n"
     ]
    }
   ],
   "source": [
    "tc.go()\n",
    "tc.turn('налево')\n",
    "tc.stop()"
   ]
  },
  {
   "cell_type": "code",
   "execution_count": 8,
   "id": "aa2e1851",
   "metadata": {},
   "outputs": [
    {
     "name": "stdout",
     "output_type": "stream",
     "text": [
      "Машина поехала\n",
      "Текущая скорость - 20 км/ч\n",
      "Вы превысили допустимую скорость (40 км/ч)\n"
     ]
    }
   ],
   "source": [
    "wc.go()\n",
    "wc.show_speed()\n",
    "wc.speed = 90\n",
    "wc.show_speed()"
   ]
  },
  {
   "cell_type": "code",
   "execution_count": 77,
   "id": "5c1d37b3",
   "metadata": {},
   "outputs": [],
   "source": [
    "#задача 5\n",
    "class Stationery:\n",
    "    def __init__(self,title):\n",
    "        self.title = title\n",
    "    \n",
    "    def draw (self):\n",
    "        print('Запуск отрисовки')\n",
    "\n",
    "class Pen (Stationery):\n",
    "    def draw(self):\n",
    "        print('Пишем ручкой')\n",
    "        \n",
    "class Pencil (Stationery):\n",
    "    def draw(self):\n",
    "        print('Пишем карандашем')\n",
    "        \n",
    "class Handle (Stationery):\n",
    "    def draw(self):\n",
    "        print('Пишем маркером')\n"
   ]
  },
  {
   "cell_type": "code",
   "execution_count": 81,
   "id": "cd749627",
   "metadata": {},
   "outputs": [],
   "source": [
    "stationery = Stationery('принадлежность для письма')\n",
    "pen = Pen('Parker')\n",
    "pencil = Pencil('Erik Krause')\n",
    "handle = Handle('Berlingo')"
   ]
  },
  {
   "cell_type": "code",
   "execution_count": 85,
   "id": "85db021b",
   "metadata": {},
   "outputs": [
    {
     "name": "stdout",
     "output_type": "stream",
     "text": [
      "Запуск отрисовки\n",
      "принадлежность для письма\n",
      "Пишем ручкой\n",
      "Parker\n",
      "Пишем карандашем\n",
      "Erik Krause\n",
      "Пишем маркером\n",
      "Berlingo\n"
     ]
    }
   ],
   "source": [
    "stationery.draw()\n",
    "print(stationery.title)\n",
    "pen.draw()\n",
    "print(pen.title)\n",
    "pencil.draw()\n",
    "print(pencil.title)\n",
    "handle.draw()\n",
    "print(handle.title)"
   ]
  },
  {
   "cell_type": "code",
   "execution_count": null,
   "id": "a3b77d46",
   "metadata": {},
   "outputs": [],
   "source": []
  }
 ],
 "metadata": {
  "kernelspec": {
   "display_name": "Python 3 (ipykernel)",
   "language": "python",
   "name": "python3"
  },
  "language_info": {
   "codemirror_mode": {
    "name": "ipython",
    "version": 3
   },
   "file_extension": ".py",
   "mimetype": "text/x-python",
   "name": "python",
   "nbconvert_exporter": "python",
   "pygments_lexer": "ipython3",
   "version": "3.9.7"
  }
 },
 "nbformat": 4,
 "nbformat_minor": 5
}
