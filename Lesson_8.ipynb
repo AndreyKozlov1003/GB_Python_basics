{
 "cells": [
  {
   "cell_type": "code",
   "execution_count": 1,
   "id": "b863cc08",
   "metadata": {},
   "outputs": [],
   "source": [
    "#задача 1\n",
    "from datetime import date\n",
    "class Date:\n",
    "    def __init__(self, date_str):\n",
    "        self.date_str = date_str\n",
    "    \n",
    "    @classmethod\n",
    "    def strtoint(cls,date_str):\n",
    "        date_list = date_str.split(sep = '-')\n",
    "        date_list = [int(elem) for elem in date_list]\n",
    "        print('{}. Тип данных - {}, {}, {}'.format(date_list,\n",
    "                                                         type(date_list[0]),type(date_list[1]),type(date_list[2])))      \n",
    "        \n",
    "    @staticmethod\n",
    "    def valid(date_str):\n",
    "        date_list = date_str.split(sep = '-')\n",
    "        date_list = [int(elem) for elem in date_list]\n",
    "        try:\n",
    "            date(date_list[2], date_list[1], date_list[0])\n",
    "            print('Введенная дата существует')\n",
    "        except Exception:\n",
    "            print('Кажется, такой даты не существует')"
   ]
  },
  {
   "cell_type": "code",
   "execution_count": 2,
   "id": "69367cc9",
   "metadata": {},
   "outputs": [
    {
     "name": "stdout",
     "output_type": "stream",
     "text": [
      "[29, 2, 2022]. Тип данных - <class 'int'>, <class 'int'>, <class 'int'>\n",
      "Кажется, такой даты не существует\n"
     ]
    }
   ],
   "source": [
    "Date.strtoint('29-02-2022')\n",
    "Date.valid('29-02-2022')"
   ]
  },
  {
   "cell_type": "code",
   "execution_count": 3,
   "id": "fb038a89",
   "metadata": {},
   "outputs": [],
   "source": [
    "#задача 2\n",
    "class ZeroDivError(Exception):\n",
    "    def __int__(self, text):\n",
    "        self.text = text\n",
    "\n",
    "def divider(a,b):\n",
    "    '''\n",
    "    функция выводит результат деления числа a на число b\n",
    "    '''\n",
    "    try:\n",
    "        if b == 0:\n",
    "            raise ZeroDivError('Вы проводите деление на ноль!')\n",
    "        else:\n",
    "            return print(a/b)\n",
    "    except ZeroDivError as zd:\n",
    "        print(zd)"
   ]
  },
  {
   "cell_type": "code",
   "execution_count": 4,
   "id": "c2c7b54a",
   "metadata": {},
   "outputs": [
    {
     "name": "stdout",
     "output_type": "stream",
     "text": [
      "0.5\n",
      "Вы проводите деление на ноль!\n"
     ]
    }
   ],
   "source": [
    "divider(5,10)\n",
    "divider(3,0)"
   ]
  },
  {
   "cell_type": "code",
   "execution_count": 5,
   "id": "c8755851",
   "metadata": {},
   "outputs": [
    {
     "name": "stdout",
     "output_type": "stream",
     "text": [
      "Введите элемент числового списка. Если хотите закончить, введите \"Stop\" - 23\n",
      "Введите элемент числового списка. Если хотите закончить, введите \"Stop\" - 1\n",
      "Введите элемент числового списка. Если хотите закончить, введите \"Stop\" - два\n",
      "Вводимый вами элемент не является числом! \n",
      "Введите элемент числового списка. Если хотите закончить, введите \"Stop\" - 90\n",
      "Введите элемент числового списка. Если хотите закончить, введите \"Stop\" - Stop\n",
      "Программа завершена. Ваш числовой список - [23, 1, 90]\n"
     ]
    }
   ],
   "source": [
    "#задача 3\n",
    "class StrCheck(Exception):\n",
    "    def __init__(self, text):\n",
    "        self.text = text\n",
    "\n",
    "elem = ''\n",
    "numbers = []\n",
    "while elem != 'Stop':\n",
    "    elem = input('Введите элемент числового списка. Если хотите закончить, введите \"Stop\" - ')\n",
    "    if elem != 'Stop':\n",
    "        try:\n",
    "            if elem.isdigit() == False:\n",
    "                raise StrCheck ('Вводимый вами элемент не является числом! ')\n",
    "            else:\n",
    "                numbers.append(int(elem))\n",
    "        except StrCheck as sc:\n",
    "            print(sc)\n",
    "    else:\n",
    "        break\n",
    "print('Программа завершена. Ваш числовой список - {}'.format(numbers))"
   ]
  },
  {
   "cell_type": "code",
   "execution_count": 6,
   "id": "bd9c955a",
   "metadata": {},
   "outputs": [],
   "source": [
    "#задачи 4-6\n",
    "\n",
    "class TypeError(Exception):\n",
    "    def __init__(self, text):\n",
    "        self.text = text      \n",
    "\n",
    "class OfficeEquipment():\n",
    "    def __init__(self, name, price, quantity):\n",
    "        try:\n",
    "            if type(name) != str or type(price) != int or type(quantity) != int:\n",
    "                raise TypeError('Ошибка при введении данных в классе {}. ' \n",
    "                                'Прочтите инструкцию для информации о совместимых типах данных'.format(type(self).__name__))\n",
    "            else:\n",
    "                self.name = name\n",
    "                self.price = price\n",
    "                self.quantity = quantity\n",
    "        except TypeError as te:\n",
    "            return print (te)\n",
    "        \n",
    "class Printer(OfficeEquipment):\n",
    "    '''\n",
    "    Имя класса: \n",
    "    Printer \n",
    "    Сигнатура для ввода команды для внесения в базу Склада:\n",
    "    name = Printer(name, price, quantity, print_vel)\n",
    "    Информация о переменных:\n",
    "    name - марка принтера, тип str\n",
    "    price - цена за ед., тип float\n",
    "    quantity - количество единиц на складе, тип int\n",
    "    print_vel - скорость печати в лист/мин, тип int\n",
    "    '''\n",
    "    info = {}\n",
    "    def __init__(self, name, price, quantity, print_vel):\n",
    "        OfficeEquipment.__init__(self,name, price, quantity)\n",
    "        try:\n",
    "            if type(print_vel) != int:\n",
    "                raise TypeError('Ошибка при введении данных в классе {}. ' \n",
    "                                'Прочтите инструкцию для информации о совместимых типах данных'.format(type(self).__name__))\n",
    "            else:\n",
    "                self.print_vel = print_vel \n",
    "        except TypeError as te:\n",
    "            return print (te)\n",
    "    def base_update(self):\n",
    "        if self.name in Storage.storage_base.keys():\n",
    "            Storage.storage_base [self.name] = self.quantity + Storage.storage_base [self.name]\n",
    "        else:\n",
    "            Storage.storage_base [self.name] = self.quantity\n",
    "        print ('База данных склада обновлена')\n",
    "        \n",
    "class Scaner(OfficeEquipment): \n",
    "    '''\n",
    "    Имя класса: \n",
    "    Scaner \n",
    "    Сигнатура для ввода команды для внесения в базу Склада:\n",
    "    name = Scaner(name, price, quantity, lasertype)\n",
    "    Информация о переменных:\n",
    "    name - марка принтера, тип str\n",
    "    price - цена за ед., тип float\n",
    "    quantity - количество единиц на складе, тип int\n",
    "    lasertype - является ли лазерным, тип bool\n",
    "    '''\n",
    "    def __init__(self, name, price, quantity, lasertype):\n",
    "        OfficeEquipment.__init__(self,name, price, quantity)\n",
    "        try:\n",
    "            if type(lasertype) != bool:\n",
    "                raise TypeError('Ошибка при введении данных в классе {}. ' \n",
    "                                'Прочтите инструкцию для информации о совместимых типах данных'.format(type(self).__name__))\n",
    "            else:\n",
    "                self.lasertype = lasertype \n",
    "        except TypeError as te:\n",
    "            return print (te)\n",
    "    def base_update(self):\n",
    "        if self.name in Storage.storage_base.keys():\n",
    "            Storage.storage_base [self.name] = self.quantity + Storage.storage_base [self.name]\n",
    "        else:\n",
    "            Storage.storage_base [self.name] = self.quantity\n",
    "        print ('База данных склада обновлена')\n",
    "        \n",
    "class Laptop(OfficeEquipment):\n",
    "    '''\n",
    "    Имя класса: \n",
    "    Laprop \n",
    "    Сигнатура для ввода команды для внесения в базу Склада:\n",
    "    name = Laptop (name, price, quantity, lasertype)\n",
    "    Информация о переменных:\n",
    "    name - марка принтера, тип str\n",
    "    price - цена за ед., тип float\n",
    "    quantity - количество единиц на складе, тип int\n",
    "    touchscreen - обладает сенсорным экраном, тип bool\n",
    "    '''\n",
    "    def __init__(self, name, price, quantity, touchscreen):\n",
    "        OfficeEquipment.__init__(self,name, price, quantity)\n",
    "        try:\n",
    "            if type(touchscreen) != bool:\n",
    "                raise TypeError('Ошибка при введении данных в классе {}. ' \n",
    "                                'Прочтите инструкцию для информации о совместимых типах данных'.format(type(self).__name__))\n",
    "            else:\n",
    "                self.touchscreen = touchscreen \n",
    "        except TypeError as te:\n",
    "            return print (te)\n",
    "    def base_update(self):\n",
    "        if self.name in Storage.storage_base.keys():\n",
    "            Storage.storage_base [self.name] = self.quantity + Storage.storage_base [self.name]\n",
    "        else:\n",
    "            Storage.storage_base [self.name] = self.quantity\n",
    "        print ('База данных склада обновлена')\n",
    "\n",
    "class Storage:\n",
    "    storage_info = ['Принтер', 'Сканер', 'Ноутбук']\n",
    "    storage_base = {}\n",
    "    @classmethod\n",
    "    def accept_storage(cls):\n",
    "        '''\n",
    "        функция позволяет добавить новое оборудование на склад\n",
    "        '''\n",
    "        machine = input('Какую технику хотите принять? - ')\n",
    "        if machine in Storage.storage_info:\n",
    "            print('База данных для данной техники существует. Для внесения в базу следуйте инструкции:')\n",
    "            if machine == 'Принтер':\n",
    "                print(Printer.__doc__)\n",
    "                print('После ввода информации введите команду name.base_update()')\n",
    "                print('---->')\n",
    "            if machine == 'Сканер':\n",
    "                print(Scaner.__doc__)\n",
    "                print('После ввода информации введите команду name.base_update()')\n",
    "                print('---->')\n",
    "            if machine == 'Ноутбук':\n",
    "                print(Laptop.__doc__)\n",
    "                print('После ввода информации введите команду name.base_update()')\n",
    "                print('---->')\n",
    "        else:\n",
    "            print('Такого оборудования в базе нет. Обратитесь к админу')\n",
    "    @classmethod        \n",
    "    def transfer(cls):\n",
    "        '''\n",
    "        функция производит операции по переносу оборудования в другое подразделение и обновляет базу данных склада\n",
    "        '''\n",
    "        print('В данный момент на складе есть следующее оборудование - \\n{}'.format(Storage.storage_base))\n",
    "        name = input ('Какое оборудование вы хотите передать в другое подразделение? - ')\n",
    "        q = int(input ('В каком количестве? - '))\n",
    "        dep = input ('В какой отдел вы хотите переместить со склада? - ')\n",
    "        try:\n",
    "            if Storage.storage_base [name] < q:\n",
    "                print('На складе нет достаточного количества оборудования')\n",
    "            else:\n",
    "                Storage.storage_base [name] -= q\n",
    "                print('Оборудование перенесено на склад {}. База данных склада обновлена'.format (dep))\n",
    "        except Exception:\n",
    "            print('Возможно, вы неправильно ввели имя оборудования или такого оборудования нет в базе')"
   ]
  },
  {
   "cell_type": "code",
   "execution_count": 8,
   "id": "2370930f",
   "metadata": {
    "scrolled": true
   },
   "outputs": [
    {
     "name": "stdout",
     "output_type": "stream",
     "text": [
      "Какую технику хотите принять? - Принтер\n",
      "База данных для данной техники существует. Для внесения в базу следуйте инструкции:\n",
      "\n",
      "    Имя класса: \n",
      "    Printer \n",
      "    Сигнатура для ввода команды для внесения в базу Склада:\n",
      "    name = Printer(name, price, quantity, print_vel)\n",
      "    Информация о переменных:\n",
      "    name - марка принтера, тип str\n",
      "    price - цена за ед., тип float\n",
      "    quantity - количество единиц на складе, тип int\n",
      "    print_vel - скорость печати в лист/мин, тип int\n",
      "    \n",
      "После ввода информации введите команду name.base_update()\n",
      "---->\n"
     ]
    }
   ],
   "source": [
    "Storage.accept_storage()"
   ]
  },
  {
   "cell_type": "code",
   "execution_count": 9,
   "id": "4683c4f0",
   "metadata": {},
   "outputs": [
    {
     "name": "stdout",
     "output_type": "stream",
     "text": [
      "База данных склада обновлена\n"
     ]
    },
    {
     "data": {
      "text/plain": [
       "{'Canon': 12}"
      ]
     },
     "execution_count": 9,
     "metadata": {},
     "output_type": "execute_result"
    }
   ],
   "source": [
    "Canon = Printer('Canon', 10000, 12, 20)\n",
    "Canon.base_update()\n",
    "Storage.storage_base"
   ]
  },
  {
   "cell_type": "code",
   "execution_count": 10,
   "id": "998dba79",
   "metadata": {},
   "outputs": [
    {
     "name": "stdout",
     "output_type": "stream",
     "text": [
      "Какую технику хотите принять? - Принтер\n",
      "База данных для данной техники существует. Для внесения в базу следуйте инструкции:\n",
      "\n",
      "    Имя класса: \n",
      "    Printer \n",
      "    Сигнатура для ввода команды для внесения в базу Склада:\n",
      "    name = Printer(name, price, quantity, print_vel)\n",
      "    Информация о переменных:\n",
      "    name - марка принтера, тип str\n",
      "    price - цена за ед., тип float\n",
      "    quantity - количество единиц на складе, тип int\n",
      "    print_vel - скорость печати в лист/мин, тип int\n",
      "    \n",
      "После ввода информации введите команду name.base_update()\n",
      "---->\n"
     ]
    }
   ],
   "source": [
    "Storage.accept_storage()"
   ]
  },
  {
   "cell_type": "code",
   "execution_count": 11,
   "id": "7e36a441",
   "metadata": {},
   "outputs": [
    {
     "name": "stdout",
     "output_type": "stream",
     "text": [
      "База данных склада обновлена\n"
     ]
    },
    {
     "data": {
      "text/plain": [
       "{'Canon': 20}"
      ]
     },
     "execution_count": 11,
     "metadata": {},
     "output_type": "execute_result"
    }
   ],
   "source": [
    "Canon = Printer('Canon', 10000, 8, 20)\n",
    "Canon.base_update()\n",
    "Storage.storage_base"
   ]
  },
  {
   "cell_type": "code",
   "execution_count": 12,
   "id": "36bdaa9f",
   "metadata": {},
   "outputs": [
    {
     "name": "stdout",
     "output_type": "stream",
     "text": [
      "Какую технику хотите принять? - Ноутбук\n",
      "База данных для данной техники существует. Для внесения в базу следуйте инструкции:\n",
      "\n",
      "    Имя класса: \n",
      "    Laprop \n",
      "    Сигнатура для ввода команды для внесения в базу Склада:\n",
      "    name = Laptop (name, price, quantity, lasertype)\n",
      "    Информация о переменных:\n",
      "    name - марка принтера, тип str\n",
      "    price - цена за ед., тип float\n",
      "    quantity - количество единиц на складе, тип int\n",
      "    touchscreen - обладает сенсорным экраном, тип bool\n",
      "    \n",
      "После ввода информации введите команду name.base_update()\n",
      "---->\n"
     ]
    }
   ],
   "source": [
    "Storage.accept_storage()"
   ]
  },
  {
   "cell_type": "code",
   "execution_count": 13,
   "id": "0efc42db",
   "metadata": {},
   "outputs": [
    {
     "name": "stdout",
     "output_type": "stream",
     "text": [
      "База данных склада обновлена\n"
     ]
    },
    {
     "data": {
      "text/plain": [
       "{'Canon': 20, 'Macbook': 2}"
      ]
     },
     "execution_count": 13,
     "metadata": {},
     "output_type": "execute_result"
    }
   ],
   "source": [
    "macbook = Laptop('Macbook', 109000, 2, False)\n",
    "macbook.base_update()\n",
    "Storage.storage_base"
   ]
  },
  {
   "cell_type": "code",
   "execution_count": 14,
   "id": "0d6f2885",
   "metadata": {},
   "outputs": [
    {
     "name": "stdout",
     "output_type": "stream",
     "text": [
      "В данный момент на складе есть следующее оборудование - \n",
      "{'Canon': 20, 'Macbook': 2}\n",
      "Какое оборудование вы хотите передать в другое подразделение? - Canon\n",
      "В каком количестве? - 13\n",
      "В какой отдел вы хотите переместить со склада? - Бухгалтерия\n",
      "Оборудование перенесено на склад Бухгалтерия. База данных склада обновлена\n"
     ]
    }
   ],
   "source": [
    "Storage.transfer()"
   ]
  },
  {
   "cell_type": "code",
   "execution_count": 15,
   "id": "87326f40",
   "metadata": {},
   "outputs": [
    {
     "data": {
      "text/plain": [
       "{'Canon': 7, 'Macbook': 2}"
      ]
     },
     "execution_count": 15,
     "metadata": {},
     "output_type": "execute_result"
    }
   ],
   "source": [
    "Storage.storage_base"
   ]
  },
  {
   "cell_type": "code",
   "execution_count": 66,
   "id": "71938129",
   "metadata": {},
   "outputs": [
    {
     "name": "stdout",
     "output_type": "stream",
     "text": [
      "Какую технику хотите принять? - Сканер\n",
      "База данных для данной техники существует. Для внесения в базу следуйте инструкции:\n",
      "\n",
      "    Имя класса: \n",
      "    Scaner \n",
      "    Сигнатура для ввода команды для внесения в базу Склада:\n",
      "    name = Scaner(name, price, quantity, lasertype)\n",
      "    Информация о переменных:\n",
      "    name - марка принтера, тип str\n",
      "    price - цена за ед., тип float\n",
      "    quantity - количество единиц на складе, тип int\n",
      "    lasertype - является ли лазерным, тип bool\n",
      "    \n",
      "После ввода информации введите команду name.base_update()\n",
      "---->\n"
     ]
    }
   ],
   "source": [
    "Storage.accept_storage()"
   ]
  },
  {
   "cell_type": "code",
   "execution_count": 67,
   "id": "30c251ac",
   "metadata": {},
   "outputs": [
    {
     "name": "stdout",
     "output_type": "stream",
     "text": [
      "Ошибка при введении данных в классе Scaner. Прочтите инструкцию для информации о совместимых типах данных\n"
     ]
    }
   ],
   "source": [
    "dell = Scaner('Dell', 20000, 12, 3)"
   ]
  },
  {
   "cell_type": "code",
   "execution_count": 16,
   "id": "ed2c001a",
   "metadata": {},
   "outputs": [
    {
     "name": "stdout",
     "output_type": "stream",
     "text": [
      "В данный момент на складе есть следующее оборудование - \n",
      "{'Canon': 7, 'Macbook': 2}\n",
      "Какое оборудование вы хотите передать в другое подразделение? - Macbook\n",
      "В каком количестве? - 9\n",
      "В какой отдел вы хотите переместить со склада? - Отдел работы с персоналом\n",
      "На складе нет достаточного количества оборудования\n"
     ]
    }
   ],
   "source": [
    "Storage.transfer()"
   ]
  },
  {
   "cell_type": "code",
   "execution_count": 17,
   "id": "09dbe10a",
   "metadata": {},
   "outputs": [],
   "source": [
    "#задача 7\n",
    "class Complex:\n",
    "    '''\n",
    "    Класс Комплексные числа\n",
    "    z = x + i*y\n",
    "    Для задания комплексного числа необходимо ввести пару чисел (x,y)\n",
    "    '''\n",
    "    def __init__(self, x, y):\n",
    "        self.x = x\n",
    "        self.y = y\n",
    "    def __str__(self):\n",
    "        if self.x == 0:\n",
    "            return f'i*{self.y}'\n",
    "        if self.y == 0:\n",
    "            return f'{self.x}'\n",
    "        else:\n",
    "            return f'{self.x} + i*{self.y}'\n",
    "    def __add__(self, other):\n",
    "        return Complex(self.x + other.x, self.y + other.y)\n",
    "    def __mul__(self, other):\n",
    "        return Complex(self.x * other.x - self.y * other.y, self.x * other.y + self.y * other.x)"
   ]
  },
  {
   "cell_type": "code",
   "execution_count": 18,
   "id": "50bd7ad7",
   "metadata": {},
   "outputs": [
    {
     "name": "stdout",
     "output_type": "stream",
     "text": [
      "6 + i*11\n",
      "-3 + i*4\n",
      "i*12\n",
      "1\n"
     ]
    }
   ],
   "source": [
    "z1 = Complex(1,2)\n",
    "z2 = Complex(1,2)\n",
    "z3 = Complex(4,7)\n",
    "print(z1 + z2 + z3)\n",
    "print(z1 * z2)\n",
    "z4 = Complex (0,12)\n",
    "print(z4)\n",
    "z5 = Complex (1,0)\n",
    "print(z5)"
   ]
  },
  {
   "cell_type": "code",
   "execution_count": null,
   "id": "ae199972",
   "metadata": {},
   "outputs": [],
   "source": []
  }
 ],
 "metadata": {
  "kernelspec": {
   "display_name": "Python 3 (ipykernel)",
   "language": "python",
   "name": "python3"
  },
  "language_info": {
   "codemirror_mode": {
    "name": "ipython",
    "version": 3
   },
   "file_extension": ".py",
   "mimetype": "text/x-python",
   "name": "python",
   "nbconvert_exporter": "python",
   "pygments_lexer": "ipython3",
   "version": "3.9.7"
  }
 },
 "nbformat": 4,
 "nbformat_minor": 5
}
