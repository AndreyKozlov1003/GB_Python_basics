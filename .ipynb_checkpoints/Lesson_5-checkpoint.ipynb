{
 "cells": [
  {
   "cell_type": "code",
   "execution_count": 1,
   "id": "257d3d5a",
   "metadata": {},
   "outputs": [
    {
     "name": "stdout",
     "output_type": "stream",
     "text": [
      "Введите любой текст для записи в файл. Если хотите выйти, нажмите Enter - Привет\n",
      "Введите любой текст для записи в файл. Если хотите выйти, нажмите Enter - меня\n",
      "Введите любой текст для записи в файл. Если хотите выйти, нажмите Enter - зовут\n",
      "Введите любой текст для записи в файл. Если хотите выйти, нажмите Enter - Андрей\n",
      "Введите любой текст для записи в файл. Если хотите выйти, нажмите Enter - \n",
      "Запись в файл закончена\n"
     ]
    }
   ],
   "source": [
    "#задача 1\n",
    "with open('task_1.txt', 'w+', encoding= 'utf-8') as file:\n",
    "    while True:\n",
    "        data = input('Введите любой текст для записи в файл. Если хотите выйти, нажмите Enter - ')\n",
    "        if data != '':\n",
    "            file.write(data + '\\n')\n",
    "        else:\n",
    "            print('Запись в файл закончена')\n",
    "            break"
   ]
  },
  {
   "cell_type": "code",
   "execution_count": 31,
   "id": "3cd5a671",
   "metadata": {},
   "outputs": [
    {
     "name": "stdout",
     "output_type": "stream",
     "text": [
      "Создать\n",
      "Количество символов в строке - 7 \n",
      "текстовый\n",
      "Количество символов в строке - 9 \n",
      "файл\n",
      "Количество символов в строке - 4 \n",
      "и\n",
      "Количество символов в строке - 1 \n",
      "посчитать\n",
      "Количество символов в строке - 9 \n",
      "в\n",
      "Количество символов в строке - 1 \n",
      "нем\n",
      "Количество символов в строке - 3 \n",
      "количество\n",
      "Количество символов в строке - 10 \n",
      "строк\n",
      "Количество символов в строке - 5 \n",
      "Количество строк равно 9\n"
     ]
    }
   ],
   "source": [
    "#задача 2\n",
    "with open('task_2.txt', 'r', encoding= 'utf-8') as file:\n",
    "    counter = 0\n",
    "    while True:\n",
    "        data = file.readline()\n",
    "        if data != '':\n",
    "            print(data[0:len(data)-1])\n",
    "            print('Количество символов в строке - {} '. format(len(data)-1))\n",
    "            counter += 1\n",
    "        else:\n",
    "            break\n",
    "print('Количество строк равно {}'.format(counter))"
   ]
  },
  {
   "cell_type": "code",
   "execution_count": 8,
   "id": "4d6d8e6e",
   "metadata": {},
   "outputs": [
    {
     "name": "stdout",
     "output_type": "stream",
     "text": [
      "Петров получает меньше 20000 руб.\n",
      "Гилев получает меньше 20000 руб.\n",
      "Мальков получает меньше 20000 руб.\n",
      "Воробьев получает меньше 20000 руб.\n",
      "Щербин получает меньше 20000 руб.\n",
      "\n",
      "Средний оклад равен - 43135.2 руб.\n"
     ]
    }
   ],
   "source": [
    "#задача 3\n",
    "salary_mas = []\n",
    "with open('task_3.txt', 'r', encoding= 'utf-8') as file:\n",
    "    while True:\n",
    "        data = file.readline()\n",
    "        if data != '':\n",
    "            data = data.split(sep=' ')\n",
    "            name = data[0]\n",
    "            salary = float(data[1][0:len(data[1])-1])\n",
    "            salary_mas.append(salary)\n",
    "            if salary < 20000:\n",
    "                print('{} получает меньше 20000 руб.'. format(name))\n",
    "        else:\n",
    "            break\n",
    "mean_salary = sum(salary_mas)/len(salary_mas)\n",
    "print('\\n''Средний оклад равен - {} руб.'.format(mean_salary))"
   ]
  },
  {
   "cell_type": "code",
   "execution_count": 26,
   "id": "5e06a895",
   "metadata": {},
   "outputs": [],
   "source": [
    "#задача 4\n",
    "rus_words = ['Один', 'Два', 'Три', 'Четыре','Пять']\n",
    "rus_data = []\n",
    "with open('task_4.txt', 'r', encoding='utf-8') as file:\n",
    "    i = 0\n",
    "    while True:\n",
    "        data = file.readline()\n",
    "        if data != '':\n",
    "            rus_data.append(rus_words[i] + data[data.find(' '):len(data)])\n",
    "            i += 1\n",
    "        else:\n",
    "            break\n",
    "with open('task_4_rus.txt', 'w', encoding='utf-8') as file:\n",
    "    for i in range (0,len(rus_data)):\n",
    "        file.write(rus_data[i])"
   ]
  },
  {
   "cell_type": "code",
   "execution_count": 17,
   "id": "bb8dac21",
   "metadata": {},
   "outputs": [
    {
     "name": "stdout",
     "output_type": "stream",
     "text": [
      "Введите набор чисел, разделенных пробелами - 99 1 23 41 9 0\n",
      "Сумма чисел в файле равна - 173\n"
     ]
    }
   ],
   "source": [
    "#задача 5\n",
    "with open('task_5.txt', 'w', encoding='utf-8') as file:\n",
    "    data = input('Введите набор чисел, разделенных пробелами - ')\n",
    "    file.write(data)\n",
    "\n",
    "with open('task_5.txt', 'r', encoding='utf-8') as file:\n",
    "    numbers = file.read()\n",
    "numbers = numbers.split()\n",
    "try:\n",
    "    numbers = [float(num) for num in numbers]\n",
    "    s = sum(numbers)\n",
    "    print('Сумма чисел в файле равна - {}'.format(s))\n",
    "except Exception:\n",
    "    print('Ошибка! Возможно, ранее вы ввели не числа!')"
   ]
  },
  {
   "cell_type": "code",
   "execution_count": 39,
   "id": "97828ef6",
   "metadata": {},
   "outputs": [
    {
     "name": "stdout",
     "output_type": "stream",
     "text": [
      "База данных о предметах в зимней четверти:\n",
      "{'Информатика': 170, 'Физика': 40, 'Физкультура': 30, 'Биология': 0, 'Математика': 15}\n"
     ]
    }
   ],
   "source": [
    "#задача 6\n",
    "import re\n",
    "\n",
    "base = {}\n",
    "with open('task_6.txt', 'r', encoding='utf-8') as file:\n",
    "    while True:\n",
    "        info = file.readline()\n",
    "        if info != '':\n",
    "            subj = info.split()\n",
    "            subj = subj[0][0:len(subj[0])-1]\n",
    "            hours = (re.findall('\\d+',info))\n",
    "            hours = [int(hour) for hour in hours]\n",
    "            hours = sum(hours)\n",
    "            base[subj] = hours\n",
    "        else:\n",
    "            break\n",
    "print('База данных о предметах в зимней четверти:\\n{}'.format(base))"
   ]
  },
  {
   "cell_type": "code",
   "execution_count": 30,
   "id": "65099bc3",
   "metadata": {},
   "outputs": [
    {
     "name": "stdout",
     "output_type": "stream",
     "text": [
      "[{'Авант+': 10010.0, 'Сириус': 899000.0, 'Рослес': -10010.0, 'Мега': 8000.0, 'Орион': -20000.0}, {'average_profit': 305670.0}]\n"
     ]
    }
   ],
   "source": [
    "#задача 7\n",
    "import json\n",
    "base = []\n",
    "companies = {}\n",
    "complex_info = []\n",
    "\n",
    "with open('task_7.txt', 'r', encoding='utf-8') as file:\n",
    "    while True:\n",
    "        info = file.readline()\n",
    "        if info != '':\n",
    "            info = info.split()\n",
    "            info.append(float(info[2])-float(info[3]))\n",
    "            base.append(info)\n",
    "        else:\n",
    "            break\n",
    "profit = [sublist[4] for sublist in base]\n",
    "positive_profit = [el for el in profit if el > 0]\n",
    "average_profit = sum(positive_profit)/len(positive_profit)\n",
    "names = [sublist[0] for sublist in base]\n",
    "companies = {name : profit_comp for (name, profit_comp) in zip(names,profit)}\n",
    "complex_info.append(companies)\n",
    "complex_info.append({'average_profit' : average_profit})\n",
    "print(complex_info)\n",
    "\n",
    "with open ('json_base_task7.txt', 'w', encoding='utf-8') as json_file:\n",
    "    json.dump(complex_info,json_file)"
   ]
  },
  {
   "cell_type": "code",
   "execution_count": null,
   "id": "17443eda",
   "metadata": {},
   "outputs": [],
   "source": []
  },
  {
   "cell_type": "code",
   "execution_count": null,
   "id": "d9d814ad",
   "metadata": {},
   "outputs": [],
   "source": []
  }
 ],
 "metadata": {
  "kernelspec": {
   "display_name": "Python 3 (ipykernel)",
   "language": "python",
   "name": "python3"
  },
  "language_info": {
   "codemirror_mode": {
    "name": "ipython",
    "version": 3
   },
   "file_extension": ".py",
   "mimetype": "text/x-python",
   "name": "python",
   "nbconvert_exporter": "python",
   "pygments_lexer": "ipython3",
   "version": "3.9.7"
  }
 },
 "nbformat": 4,
 "nbformat_minor": 5
}
