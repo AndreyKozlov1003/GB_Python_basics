{
 "cells": [
  {
   "cell_type": "code",
   "execution_count": 172,
   "id": "6a57896a",
   "metadata": {},
   "outputs": [],
   "source": [
    "#задача 1\n",
    "class Matrix:\n",
    "    ''' \n",
    "    реализация вывода матрицы в виде таблицы путем перегрузки метода __str__ и сложения двух матриц путем\n",
    "    перегрузки метода __add__. \n",
    "    Входные матрица должны иметь формат списка списков типа Matrix = [[a,b,c] ,[d,e,f], [i,j,k]].\n",
    "    Реализовано сложение N матриц ОДИНАКОВОЙ размерности, которые записаны в соответствие с требованиями,\n",
    "    указанными выше.\n",
    "    '''\n",
    "    def __init__(self, matrix):\n",
    "        self.matrix = matrix\n",
    "    \n",
    "    def __str__(self):\n",
    "        self.output_line = ''\n",
    "        for i in range(0, len(self.matrix)):\n",
    "            for j in range(0, len(self.matrix[i])):\n",
    "                self.output_line += ' ' + str(self.matrix[i][j])\n",
    "            self.output_line += '\\n'\n",
    "        return self.output_line\n",
    "    \n",
    "    def __add__(self,other):\n",
    "        sum_mat = [(self.matrix[i][j] + other.matrix[i][j]) \n",
    "                   for i in range(0, len(self.matrix)) for j in range(0, len(self.matrix[i]))]\n",
    "        shape = (len(self.matrix),len(self.matrix[0]))\n",
    "        new2 = []\n",
    "        new1 = []\n",
    "        ind_sum = 0 \n",
    "        for i in range(0,shape[0]):\n",
    "            for j in range(0,shape[1]):\n",
    "                new1.append(sum_mat[ind_sum])\n",
    "                ind_sum += 1\n",
    "            new2.append(new1)\n",
    "            new1 = []\n",
    "        return Matrix(new2)"
   ]
  },
  {
   "cell_type": "code",
   "execution_count": 175,
   "id": "577cf97a",
   "metadata": {},
   "outputs": [
    {
     "name": "stdout",
     "output_type": "stream",
     "text": [
      "Матрица 1:\n",
      " 1 3\n",
      " 7 8\n",
      " 4 9\n",
      "\n",
      "Матрица 2:\n",
      " -2 -8\n",
      " 1 1\n",
      " 10 -8\n",
      "\n",
      "Матрица 3:\n",
      " 11 0\n",
      " 0 1\n",
      " 3 19\n",
      "\n",
      "Сумма матриц 1 и 2:\n",
      " -1 -5\n",
      " 8 9\n",
      " 14 1\n",
      "\n",
      "Сумма матриц 1 и 2 и 3:\n",
      " 10 -5\n",
      " 8 10\n",
      " 17 20\n",
      "\n"
     ]
    }
   ],
   "source": [
    "try:\n",
    "    m1 = Matrix([[1,3],[7,8],[4,9]])\n",
    "    m2 = Matrix([[-2,-8],[1,1],[10,-8]])\n",
    "    m3 = Matrix([[11,0],[0,1],[3,19]])\n",
    "    print('Матрица 1:\\n{}'.format(m1))\n",
    "    print('Матрица 2:\\n{}'.format(m2))\n",
    "    print('Матрица 3:\\n{}'.format(m3))\n",
    "    print('Сумма матриц 1 и 2:\\n{}'.format(m1+m2))\n",
    "    print('Сумма матриц 1 и 2 и 3:\\n{}'.format(m1+m2+m3))\n",
    "except Exception:\n",
    "    print('Ошибка! Входная матрица должна быть записана в формате списка списков:\\n[[a,b],[c,d],[e,f]]')\n"
   ]
  },
  {
   "cell_type": "code",
   "execution_count": 77,
   "id": "0baaacaf",
   "metadata": {},
   "outputs": [],
   "source": [
    "#задача 2\n",
    "from abc import ABC, abstractmethod, abstractproperty\n",
    "\n",
    "''' \n",
    "Абстрактный класс, в котором заданы название одежды и абстрактный метод по расчету расхода ткани.\n",
    "Дочерние классы пальто определяют параметр одежды на размер и рост для пальто и костюма соответственно. \n",
    "Также в дочерних классах переопределяется метод подсчета расхода ткани. Для каждого типа одежды он свой.\n",
    "'''\n",
    "class Clothes (ABC):\n",
    "    def __init__(self, title):\n",
    "        self.title = title \n",
    "    @abstractmethod\n",
    "    def consumption(self):\n",
    "        pass\n",
    "    \n",
    "class TopCoat (Clothes):\n",
    "    def __init__(self, title, size):\n",
    "        super().__init__(title)\n",
    "        self.size = size\n",
    "    @property\n",
    "    def consumption (self):\n",
    "        pass\n",
    "        return (self.size/6.5 + 0.5)\n",
    "\n",
    "class Costume(Clothes):\n",
    "    def __init__(self, title, height):\n",
    "        super().__init__(title)\n",
    "        self.height = height\n",
    "    @property\n",
    "    def consumption (self):\n",
    "        return (self.height*2 + 0.3)"
   ]
  },
  {
   "cell_type": "code",
   "execution_count": 78,
   "id": "47899896",
   "metadata": {},
   "outputs": [
    {
     "name": "stdout",
     "output_type": "stream",
     "text": [
      "Общий расход ткани для пошива гардероба в составе: \n",
      "Мамино пальто, Папин костюм, Дедушкин фрак \n",
      "равен - 712.5 см\n"
     ]
    }
   ],
   "source": [
    "m_tc = TopCoat ('Мамино пальто', 48)\n",
    "f_c = Costume ('Папин костюм', 180)\n",
    "gf_c = Costume ('Дедушкин фрак', 172)\n",
    "print('Общий расход ткани для пошива гардероба в составе: \\n'\n",
    "      '{}, {}, {} \\n''равен - {} см'.format(m_tc.title,f_c.title, gf_c.title, round((m_tc.consumption + f_c.consumption + \n",
    "                                                                                gf_c.consumption),1)))"
   ]
  },
  {
   "cell_type": "code",
   "execution_count": 40,
   "id": "9f3b08be",
   "metadata": {},
   "outputs": [],
   "source": [
    "#задача 3\n",
    "import math\n",
    "\n",
    "class Cell:\n",
    "    \n",
    "    def __init__(self,num_cells):\n",
    "        self.num_cells = num_cells\n",
    "    \n",
    "    def __str__(self):\n",
    "        return str(self.num_cells)\n",
    "    \n",
    "    def __add__(self, other):\n",
    "        return Cell(self.num_cells + other.num_cells)\n",
    "    \n",
    "    def __sub__(self, other):\n",
    "        if self.num_cells >= other.num_cells:\n",
    "            return Cell(self.num_cells - other.num_cells)\n",
    "        else:\n",
    "            return 'Разность количества ячеек меньше нуля. Операция не выполнена'\n",
    "    \n",
    "    def __mul__(self, other):\n",
    "        return Cell(self.num_cells * other.num_cells)\n",
    "    \n",
    "    def __truediv__(self, other):\n",
    "        return Cell(self.num_cells // other.num_cells)\n",
    "    \n",
    "    def makeorder(self, num_in_row):\n",
    "        cell_organized = ''\n",
    "        for i in range(0, math.ceil(self.num_cells/num_in_row)):\n",
    "            if self.num_cells > num_in_row:\n",
    "                cell_organized += '*' * num_in_row + '\\n'\n",
    "                self.num_cells -= num_in_row\n",
    "            else:\n",
    "                cell_organized += '*' * self.num_cells\n",
    "        return cell_organized"
   ]
  },
  {
   "cell_type": "code",
   "execution_count": 43,
   "id": "028b9ba8",
   "metadata": {},
   "outputs": [
    {
     "name": "stdout",
     "output_type": "stream",
     "text": [
      "21\n",
      "1\n",
      "7\n",
      "6\n",
      "Разность количества ячеек меньше нуля. Операция не выполнена\n"
     ]
    }
   ],
   "source": [
    "cell_1 = Cell (7)\n",
    "cell_2 = Cell (13)\n",
    "cell_3 = Cell (1)\n",
    "cell_4 = cell_1 + cell_2 + cell_3\n",
    "print(cell_4)\n",
    "print(cell_2 / cell_1)\n",
    "print(cell_1 * cell_3)\n",
    "print(cell_2 - cell_1)\n",
    "print(cell_1 - cell_2)"
   ]
  },
  {
   "cell_type": "code",
   "execution_count": 44,
   "id": "39d21ccc",
   "metadata": {},
   "outputs": [
    {
     "name": "stdout",
     "output_type": "stream",
     "text": [
      "*********\n",
      "*********\n",
      "***\n"
     ]
    }
   ],
   "source": [
    "print(cell_4.makeorder(9))"
   ]
  },
  {
   "cell_type": "code",
   "execution_count": null,
   "id": "f7144da8",
   "metadata": {},
   "outputs": [],
   "source": []
  },
  {
   "cell_type": "code",
   "execution_count": null,
   "id": "175c7c0b",
   "metadata": {},
   "outputs": [],
   "source": []
  }
 ],
 "metadata": {
  "kernelspec": {
   "display_name": "Python 3 (ipykernel)",
   "language": "python",
   "name": "python3"
  },
  "language_info": {
   "codemirror_mode": {
    "name": "ipython",
    "version": 3
   },
   "file_extension": ".py",
   "mimetype": "text/x-python",
   "name": "python",
   "nbconvert_exporter": "python",
   "pygments_lexer": "ipython3",
   "version": "3.9.7"
  }
 },
 "nbformat": 4,
 "nbformat_minor": 5
}
